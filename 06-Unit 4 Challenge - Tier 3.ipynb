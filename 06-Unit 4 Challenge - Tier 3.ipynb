{
 "cells": [
  {
   "cell_type": "markdown",
   "metadata": {
    "colab_type": "text",
    "id": "Tia3MP1SJpgj"
   },
   "source": [
    "# Springboard Data Science Career Track Unit 4 Challenge - Tier 3 Complete\n",
    "\n",
    "## Objectives\n",
    "Hey! Great job getting through those challenging DataCamp courses. You're learning a lot in a short span of time. \n",
    "\n",
    "In this notebook, you're going to apply the skills you've been learning, bridging the gap between the controlled environment of DataCamp and the *slightly* messier work that data scientists do with actual datasets!\n",
    "\n",
    "Here’s the mystery we’re going to solve: ***which boroughs of London have seen the greatest increase in housing prices, on average, over the last two decades?***\n",
    "\n",
    "\n",
    "A borough is just a fancy word for district. You may be familiar with the five boroughs of New York… well, there are 32 boroughs within Greater London [(here's some info for the curious)](https://en.wikipedia.org/wiki/London_boroughs). Some of them are more desirable areas to live in, and the data will reflect that with a greater rise in housing prices.\n",
    "\n",
    "***This is the Tier 3 notebook, which means it's not filled in at all: we'll just give you the skeleton of a project, the brief and the data. It's up to you to play around with it and see what you can find out! Good luck! If you struggle, feel free to look at easier tiers for help; but try to dip in and out of them, as the more independent work you do, the better it is for your learning!***\n",
    "\n",
    "This challenge will make use of only what you learned in the following DataCamp courses: \n",
    "- Prework courses (Introduction to Python for Data Science, Intermediate Python for Data Science)\n",
    "- Data Types for Data Science\n",
    "- Python Data Science Toolbox (Part One) \n",
    "- pandas Foundations\n",
    "- Manipulating DataFrames with pandas\n",
    "- Merging DataFrames with pandas\n",
    "\n",
    "Of the tools, techniques and concepts in the above DataCamp courses, this challenge should require the application of the following: \n",
    "- **pandas**\n",
    "    - **data ingestion and inspection** (pandas Foundations, Module One) \n",
    "    - **exploratory data analysis** (pandas Foundations, Module Two)\n",
    "    - **tidying and cleaning** (Manipulating DataFrames with pandas, Module Three) \n",
    "    - **transforming DataFrames** (Manipulating DataFrames with pandas, Module One)\n",
    "    - **subsetting DataFrames with lists** (Manipulating DataFrames with pandas, Module One) \n",
    "    - **filtering DataFrames** (Manipulating DataFrames with pandas, Module One) \n",
    "    - **grouping data** (Manipulating DataFrames with pandas, Module Four) \n",
    "    - **melting data** (Manipulating DataFrames with pandas, Module Three) \n",
    "    - **advanced indexing** (Manipulating DataFrames with pandas, Module Four) \n",
    "- **matplotlib** (Intermediate Python for Data Science, Module One)\n",
    "- **fundamental data types** (Data Types for Data Science, Module One) \n",
    "- **dictionaries** (Intermediate Python for Data Science, Module Two)\n",
    "- **handling dates and times** (Data Types for Data Science, Module Four)\n",
    "- **function definition** (Python Data Science Toolbox - Part One, Module One)\n",
    "- **default arguments, variable length, and scope** (Python Data Science Toolbox - Part One, Module Two) \n",
    "- **lambda functions and error handling** (Python Data Science Toolbox - Part One, Module Four) "
   ]
  },
  {
   "cell_type": "markdown",
   "metadata": {
    "colab_type": "text",
    "id": "Ipgd2nV8Jpgl"
   },
   "source": [
    "## The Data Science Pipeline\n",
    "\n",
    "This is Tier Three, so we'll get you started. But after that, it's all in your hands! When you feel done with your investigations, look back over what you've accomplished, and prepare a quick presentation of your findings for the next mentor meeting. \n",
    "\n",
    "Data Science is magical. In this case study, you'll get to apply some complex machine learning algorithms. But as  [David Spiegelhalter](https://www.youtube.com/watch?v=oUs1uvsz0Ok) reminds us, there is no substitute for simply **taking a really, really good look at the data.** Sometimes, this is all we need to answer our question.\n",
    "\n",
    "Data Science projects generally adhere to the four stages of Data Science Pipeline:\n",
    "1. Sourcing and loading \n",
    "2. Cleaning, transforming, and visualizing \n",
    "3. Modeling \n",
    "4. Evaluating and concluding \n"
   ]
  },
  {
   "cell_type": "markdown",
   "metadata": {
    "colab_type": "text",
    "id": "zswDqbefJpgm"
   },
   "source": [
    "### 1. Sourcing and Loading \n",
    "\n",
    "Any Data Science project kicks off by importing  ***pandas***. The documentation of this wonderful library can be found [here](https://pandas.pydata.org/). As you've seen, pandas is conveniently connected to the [Numpy](http://www.numpy.org/) and [Matplotlib](https://matplotlib.org/) libraries. \n",
    "\n",
    "***Hint:*** This part of the data science pipeline will test those skills you acquired in the pandas Foundations course, Module One. "
   ]
  },
  {
   "cell_type": "markdown",
   "metadata": {
    "colab_type": "text",
    "id": "aEau5nEvJpgm"
   },
   "source": [
    "#### 1.1. Importing Libraries"
   ]
  },
  {
   "cell_type": "code",
   "execution_count": 1,
   "metadata": {
    "colab": {},
    "colab_type": "code",
    "id": "7Bt_Q_oPJpgn"
   },
   "outputs": [],
   "source": [
    "# Let's import the pandas, numpy libraries as pd, and np respectively. \n",
    "import pandas as pd\n",
    "import numpy as np\n",
    "\n",
    "# Load the pyplot collection of functions from matplotlib, as plt \n",
    "import matplotlib.pyplot as plt"
   ]
  },
  {
   "cell_type": "markdown",
   "metadata": {
    "colab_type": "text",
    "id": "koUrawxsJpgq"
   },
   "source": [
    "#### 1.2.  Loading the data\n",
    "Your data comes from the [London Datastore](https://data.london.gov.uk/): a free, open-source data-sharing portal for London-oriented datasets. "
   ]
  },
  {
   "cell_type": "code",
   "execution_count": 2,
   "metadata": {
    "colab": {},
    "colab_type": "code",
    "id": "AiLiD4v3Jpgr"
   },
   "outputs": [],
   "source": [
    "# First, make a variable called url_LondonHousePrices, and assign it the following link, enclosed in quotation-marks as a string:\n",
    "# https://data.london.gov.uk/download/uk-house-price-index/70ac0766-8902-4eb5-aab5-01951aaed773/UK%20House%20price%20index.xls\n",
    "\n",
    "#_ _ _ = \"https://data.london.gov.uk/download/uk-house-price-index/70ac0766-8902-4eb5-aab5-01951aaed773/UK%20House%20price%20index.xls\"\n",
    "properties = pd.read_csv('../data/UK_House_price_index.csv')\n",
    "\n",
    "# The dataset we're interested in contains the Average prices of the houses, and is actually on a particular sheet of the Excel file. \n",
    "# As a result, we need to specify the sheet name in the read_excel() method.\n",
    "# Put this data into a variable called properties.  \n",
    "#properties = pd._ _ _(url_LondonHousePrices, sheet_name='Average price', index_col= None)"
   ]
  },
  {
   "cell_type": "markdown",
   "metadata": {
    "colab_type": "text",
    "id": "POukEJXgJpgu"
   },
   "source": [
    "### 2. Cleaning, transforming, and visualizing\n",
    "This second stage is arguably the most important part of any Data Science project. The first thing to do is take a proper look at the data. Cleaning forms the majority of this stage, and can be done both before or after Transformation.\n",
    "\n",
    "The end goal of data cleaning is to have tidy data. When data is tidy: \n",
    "\n",
    "1. Each variable has a column.\n",
    "2. Each observation forms a row.\n",
    "\n",
    "Keep the end goal in mind as you move through this process, every step will take you closer. \n",
    "\n",
    "\n",
    "\n",
    "***Hint:*** This part of the data science pipeline should test those skills you acquired in: \n",
    "- Intermediate Python for data science, all modules.\n",
    "- pandas Foundations, all modules. \n",
    "- Manipulating DataFrames with pandas, all modules.\n",
    "- Data Types for Data Science, Module Four.\n",
    "- Python Data Science Toolbox - Part One, all modules"
   ]
  },
  {
   "cell_type": "markdown",
   "metadata": {
    "colab_type": "text",
    "id": "Te0Q548tnzZa"
   },
   "source": [
    "**2.1. Exploring your data** \n",
    "\n",
    "Think about your pandas functions for checking out a dataframe. "
   ]
  },
  {
   "cell_type": "code",
   "execution_count": 3,
   "metadata": {
    "colab": {},
    "colab_type": "code",
    "id": "Rxirxw_qoAJa"
   },
   "outputs": [
    {
     "data": {
      "text/plain": [
       "(344, 49)"
      ]
     },
     "execution_count": 3,
     "metadata": {},
     "output_type": "execute_result"
    }
   ],
   "source": [
    "# First off, let's use .shape feature of pandas DataFrames to look at the number of rows and columns. \n",
    "properties.shape"
   ]
  },
  {
   "cell_type": "code",
   "execution_count": 4,
   "metadata": {},
   "outputs": [
    {
     "data": {
      "text/html": [
       "<div>\n",
       "<style scoped>\n",
       "    .dataframe tbody tr th:only-of-type {\n",
       "        vertical-align: middle;\n",
       "    }\n",
       "\n",
       "    .dataframe tbody tr th {\n",
       "        vertical-align: top;\n",
       "    }\n",
       "\n",
       "    .dataframe thead th {\n",
       "        text-align: right;\n",
       "    }\n",
       "</style>\n",
       "<table border=\"1\" class=\"dataframe\">\n",
       "  <thead>\n",
       "    <tr style=\"text-align: right;\">\n",
       "      <th></th>\n",
       "      <th>Unnamed: 0</th>\n",
       "      <th>City of London</th>\n",
       "      <th>Barking &amp; Dagenham</th>\n",
       "      <th>Barnet</th>\n",
       "      <th>Bexley</th>\n",
       "      <th>Brent</th>\n",
       "      <th>Bromley</th>\n",
       "      <th>Camden</th>\n",
       "      <th>Croydon</th>\n",
       "      <th>Ealing</th>\n",
       "      <th>...</th>\n",
       "      <th>NORTH WEST</th>\n",
       "      <th>YORKS &amp; THE HUMBER</th>\n",
       "      <th>EAST MIDLANDS</th>\n",
       "      <th>WEST MIDLANDS</th>\n",
       "      <th>EAST OF ENGLAND</th>\n",
       "      <th>LONDON</th>\n",
       "      <th>SOUTH EAST</th>\n",
       "      <th>SOUTH WEST</th>\n",
       "      <th>Unnamed: 47</th>\n",
       "      <th>England</th>\n",
       "    </tr>\n",
       "  </thead>\n",
       "  <tbody>\n",
       "    <tr>\n",
       "      <th>0</th>\n",
       "      <td>NaN</td>\n",
       "      <td>E09000001</td>\n",
       "      <td>E09000002</td>\n",
       "      <td>E09000003</td>\n",
       "      <td>E09000004</td>\n",
       "      <td>E09000005</td>\n",
       "      <td>E09000006</td>\n",
       "      <td>E09000007</td>\n",
       "      <td>E09000008</td>\n",
       "      <td>E09000009</td>\n",
       "      <td>...</td>\n",
       "      <td>E12000002</td>\n",
       "      <td>E12000003</td>\n",
       "      <td>E12000004</td>\n",
       "      <td>E12000005</td>\n",
       "      <td>E12000006</td>\n",
       "      <td>E12000007</td>\n",
       "      <td>E12000008</td>\n",
       "      <td>E12000009</td>\n",
       "      <td>NaN</td>\n",
       "      <td>E92000001</td>\n",
       "    </tr>\n",
       "    <tr>\n",
       "      <th>1</th>\n",
       "      <td>Jan-95</td>\n",
       "      <td>11.7</td>\n",
       "      <td>22.9</td>\n",
       "      <td>20.2</td>\n",
       "      <td>24.8</td>\n",
       "      <td>16.9</td>\n",
       "      <td>21.9</td>\n",
       "      <td>15.7</td>\n",
       "      <td>23.9</td>\n",
       "      <td>19.4</td>\n",
       "      <td>...</td>\n",
       "      <td>32.3</td>\n",
       "      <td>32.9</td>\n",
       "      <td>29.6</td>\n",
       "      <td>30.6</td>\n",
       "      <td>24.8</td>\n",
       "      <td>18.5</td>\n",
       "      <td>24.2</td>\n",
       "      <td>25.7</td>\n",
       "      <td>NaN</td>\n",
       "      <td>26.2</td>\n",
       "    </tr>\n",
       "    <tr>\n",
       "      <th>2</th>\n",
       "      <td>Feb-95</td>\n",
       "      <td>10.5</td>\n",
       "      <td>23.2</td>\n",
       "      <td>20.2</td>\n",
       "      <td>24.8</td>\n",
       "      <td>17.0</td>\n",
       "      <td>21.9</td>\n",
       "      <td>15.5</td>\n",
       "      <td>23.9</td>\n",
       "      <td>19.6</td>\n",
       "      <td>...</td>\n",
       "      <td>32.3</td>\n",
       "      <td>32.7</td>\n",
       "      <td>30.0</td>\n",
       "      <td>31.1</td>\n",
       "      <td>24.8</td>\n",
       "      <td>18.1</td>\n",
       "      <td>24.1</td>\n",
       "      <td>25.5</td>\n",
       "      <td>NaN</td>\n",
       "      <td>26.2</td>\n",
       "    </tr>\n",
       "    <tr>\n",
       "      <th>3</th>\n",
       "      <td>Mar-95</td>\n",
       "      <td>10.1</td>\n",
       "      <td>23.3</td>\n",
       "      <td>20.0</td>\n",
       "      <td>24.6</td>\n",
       "      <td>17.0</td>\n",
       "      <td>21.8</td>\n",
       "      <td>15.6</td>\n",
       "      <td>23.8</td>\n",
       "      <td>19.7</td>\n",
       "      <td>...</td>\n",
       "      <td>32.7</td>\n",
       "      <td>33.2</td>\n",
       "      <td>29.5</td>\n",
       "      <td>31.2</td>\n",
       "      <td>24.6</td>\n",
       "      <td>18.3</td>\n",
       "      <td>24.2</td>\n",
       "      <td>25.2</td>\n",
       "      <td>NaN</td>\n",
       "      <td>26.2</td>\n",
       "    </tr>\n",
       "    <tr>\n",
       "      <th>4</th>\n",
       "      <td>Apr-95</td>\n",
       "      <td>9.8</td>\n",
       "      <td>24.1</td>\n",
       "      <td>19.7</td>\n",
       "      <td>24.6</td>\n",
       "      <td>17.3</td>\n",
       "      <td>21.8</td>\n",
       "      <td>15.6</td>\n",
       "      <td>23.8</td>\n",
       "      <td>19.9</td>\n",
       "      <td>...</td>\n",
       "      <td>32.5</td>\n",
       "      <td>33.5</td>\n",
       "      <td>30.0</td>\n",
       "      <td>31.2</td>\n",
       "      <td>24.8</td>\n",
       "      <td>18.5</td>\n",
       "      <td>24.4</td>\n",
       "      <td>25.7</td>\n",
       "      <td>NaN</td>\n",
       "      <td>26.4</td>\n",
       "    </tr>\n",
       "  </tbody>\n",
       "</table>\n",
       "<p>5 rows × 49 columns</p>\n",
       "</div>"
      ],
      "text/plain": [
       "  Unnamed: 0 City of London Barking & Dagenham     Barnet     Bexley  \\\n",
       "0        NaN      E09000001          E09000002  E09000003  E09000004   \n",
       "1     Jan-95           11.7               22.9       20.2       24.8   \n",
       "2     Feb-95           10.5               23.2       20.2       24.8   \n",
       "3     Mar-95           10.1               23.3       20.0       24.6   \n",
       "4     Apr-95            9.8               24.1       19.7       24.6   \n",
       "\n",
       "       Brent    Bromley     Camden    Croydon     Ealing  ... NORTH WEST  \\\n",
       "0  E09000005  E09000006  E09000007  E09000008  E09000009  ...  E12000002   \n",
       "1       16.9       21.9       15.7       23.9       19.4  ...       32.3   \n",
       "2       17.0       21.9       15.5       23.9       19.6  ...       32.3   \n",
       "3       17.0       21.8       15.6       23.8       19.7  ...       32.7   \n",
       "4       17.3       21.8       15.6       23.8       19.9  ...       32.5   \n",
       "\n",
       "  YORKS & THE HUMBER EAST MIDLANDS WEST MIDLANDS EAST OF ENGLAND     LONDON  \\\n",
       "0          E12000003     E12000004     E12000005       E12000006  E12000007   \n",
       "1               32.9          29.6          30.6            24.8       18.5   \n",
       "2               32.7          30.0          31.1            24.8       18.1   \n",
       "3               33.2          29.5          31.2            24.6       18.3   \n",
       "4               33.5          30.0          31.2            24.8       18.5   \n",
       "\n",
       "  SOUTH EAST SOUTH WEST Unnamed: 47    England  \n",
       "0  E12000008  E12000009         NaN  E92000001  \n",
       "1       24.2       25.7         NaN       26.2  \n",
       "2       24.1       25.5         NaN       26.2  \n",
       "3       24.2       25.2         NaN       26.2  \n",
       "4       24.4       25.7         NaN       26.4  \n",
       "\n",
       "[5 rows x 49 columns]"
      ]
     },
     "execution_count": 4,
     "metadata": {},
     "output_type": "execute_result"
    }
   ],
   "source": [
    "# Using the .head() method, let's check out the state of our dataset.  \n",
    "properties.head()"
   ]
  },
  {
   "cell_type": "markdown",
   "metadata": {
    "colab_type": "text",
    "id": "tE9Sqt9-oAta"
   },
   "source": [
    "**2.2. Cleaning the data**\n",
    "\n",
    "You might find you need to transpose your dataframe, check out what its row indexes are, and reset the index. You  also might find you need to assign the values of the first row to your column headings  . (Hint: recall the .columns feature of DataFrames, as well as the iloc[] method).\n",
    "\n",
    "Don't be afraid to use StackOverflow for help  with this."
   ]
  },
  {
   "cell_type": "code",
   "execution_count": 5,
   "metadata": {
    "colab": {},
    "colab_type": "code",
    "id": "cdAu1A3YoH_r"
   },
   "outputs": [],
   "source": [
    "# Do this here\n",
    "properties_T = properties.T"
   ]
  },
  {
   "cell_type": "code",
   "execution_count": 6,
   "metadata": {},
   "outputs": [
    {
     "data": {
      "text/html": [
       "<div>\n",
       "<style scoped>\n",
       "    .dataframe tbody tr th:only-of-type {\n",
       "        vertical-align: middle;\n",
       "    }\n",
       "\n",
       "    .dataframe tbody tr th {\n",
       "        vertical-align: top;\n",
       "    }\n",
       "\n",
       "    .dataframe thead th {\n",
       "        text-align: right;\n",
       "    }\n",
       "</style>\n",
       "<table border=\"1\" class=\"dataframe\">\n",
       "  <thead>\n",
       "    <tr style=\"text-align: right;\">\n",
       "      <th></th>\n",
       "      <th>0</th>\n",
       "      <th>1</th>\n",
       "      <th>2</th>\n",
       "      <th>3</th>\n",
       "      <th>4</th>\n",
       "      <th>5</th>\n",
       "      <th>6</th>\n",
       "      <th>7</th>\n",
       "      <th>8</th>\n",
       "      <th>9</th>\n",
       "      <th>...</th>\n",
       "      <th>334</th>\n",
       "      <th>335</th>\n",
       "      <th>336</th>\n",
       "      <th>337</th>\n",
       "      <th>338</th>\n",
       "      <th>339</th>\n",
       "      <th>340</th>\n",
       "      <th>341</th>\n",
       "      <th>342</th>\n",
       "      <th>343</th>\n",
       "    </tr>\n",
       "  </thead>\n",
       "  <tbody>\n",
       "    <tr>\n",
       "      <th>Unnamed: 0</th>\n",
       "      <td>NaN</td>\n",
       "      <td>Jan-95</td>\n",
       "      <td>Feb-95</td>\n",
       "      <td>Mar-95</td>\n",
       "      <td>Apr-95</td>\n",
       "      <td>May-95</td>\n",
       "      <td>Jun-95</td>\n",
       "      <td>Jul-95</td>\n",
       "      <td>Aug-95</td>\n",
       "      <td>Sep-95</td>\n",
       "      <td>...</td>\n",
       "      <td>Oct-22</td>\n",
       "      <td>Nov-22</td>\n",
       "      <td>Dec-22</td>\n",
       "      <td>Jan-23</td>\n",
       "      <td>Feb-23</td>\n",
       "      <td>Mar-23</td>\n",
       "      <td>Apr-23</td>\n",
       "      <td>May-23</td>\n",
       "      <td>Jun-23</td>\n",
       "      <td>NaN</td>\n",
       "    </tr>\n",
       "    <tr>\n",
       "      <th>City of London</th>\n",
       "      <td>E09000001</td>\n",
       "      <td>11.7</td>\n",
       "      <td>10.5</td>\n",
       "      <td>10.1</td>\n",
       "      <td>9.8</td>\n",
       "      <td>10.8</td>\n",
       "      <td>12.1</td>\n",
       "      <td>14.1</td>\n",
       "      <td>14.3</td>\n",
       "      <td>13.3</td>\n",
       "      <td>...</td>\n",
       "      <td>116.3</td>\n",
       "      <td>121.5</td>\n",
       "      <td>121.7</td>\n",
       "      <td>124.5</td>\n",
       "      <td>109.7</td>\n",
       "      <td>116.2</td>\n",
       "      <td>115.9</td>\n",
       "      <td>124.8</td>\n",
       "      <td>127.8</td>\n",
       "      <td>NaN</td>\n",
       "    </tr>\n",
       "    <tr>\n",
       "      <th>Barking &amp; Dagenham</th>\n",
       "      <td>E09000002</td>\n",
       "      <td>22.9</td>\n",
       "      <td>23.2</td>\n",
       "      <td>23.3</td>\n",
       "      <td>24.1</td>\n",
       "      <td>24.1</td>\n",
       "      <td>24.4</td>\n",
       "      <td>23.7</td>\n",
       "      <td>23.7</td>\n",
       "      <td>23.4</td>\n",
       "      <td>...</td>\n",
       "      <td>159.1</td>\n",
       "      <td>160.8</td>\n",
       "      <td>161.8</td>\n",
       "      <td>160.0</td>\n",
       "      <td>156.5</td>\n",
       "      <td>156.2</td>\n",
       "      <td>159.4</td>\n",
       "      <td>160.8</td>\n",
       "      <td>157.7</td>\n",
       "      <td>NaN</td>\n",
       "    </tr>\n",
       "    <tr>\n",
       "      <th>Barnet</th>\n",
       "      <td>E09000003</td>\n",
       "      <td>20.2</td>\n",
       "      <td>20.2</td>\n",
       "      <td>20.0</td>\n",
       "      <td>19.7</td>\n",
       "      <td>19.6</td>\n",
       "      <td>19.5</td>\n",
       "      <td>19.8</td>\n",
       "      <td>20.0</td>\n",
       "      <td>20.2</td>\n",
       "      <td>...</td>\n",
       "      <td>129.9</td>\n",
       "      <td>128.5</td>\n",
       "      <td>128.7</td>\n",
       "      <td>129.5</td>\n",
       "      <td>130.3</td>\n",
       "      <td>128.7</td>\n",
       "      <td>127.1</td>\n",
       "      <td>124.7</td>\n",
       "      <td>124.5</td>\n",
       "      <td>NaN</td>\n",
       "    </tr>\n",
       "    <tr>\n",
       "      <th>Bexley</th>\n",
       "      <td>E09000004</td>\n",
       "      <td>24.8</td>\n",
       "      <td>24.8</td>\n",
       "      <td>24.6</td>\n",
       "      <td>24.6</td>\n",
       "      <td>24.4</td>\n",
       "      <td>24.5</td>\n",
       "      <td>24.3</td>\n",
       "      <td>24.6</td>\n",
       "      <td>24.6</td>\n",
       "      <td>...</td>\n",
       "      <td>156.9</td>\n",
       "      <td>156.4</td>\n",
       "      <td>156.1</td>\n",
       "      <td>153.2</td>\n",
       "      <td>153.1</td>\n",
       "      <td>152.8</td>\n",
       "      <td>153.7</td>\n",
       "      <td>152.2</td>\n",
       "      <td>151.3</td>\n",
       "      <td>NaN</td>\n",
       "    </tr>\n",
       "  </tbody>\n",
       "</table>\n",
       "<p>5 rows × 344 columns</p>\n",
       "</div>"
      ],
      "text/plain": [
       "                          0       1       2       3       4       5       6    \\\n",
       "Unnamed: 0                NaN  Jan-95  Feb-95  Mar-95  Apr-95  May-95  Jun-95   \n",
       "City of London      E09000001    11.7    10.5    10.1     9.8    10.8    12.1   \n",
       "Barking & Dagenham  E09000002    22.9    23.2    23.3    24.1    24.1    24.4   \n",
       "Barnet              E09000003    20.2    20.2    20.0    19.7    19.6    19.5   \n",
       "Bexley              E09000004    24.8    24.8    24.6    24.6    24.4    24.5   \n",
       "\n",
       "                       7       8       9    ...     334     335     336  \\\n",
       "Unnamed: 0          Jul-95  Aug-95  Sep-95  ...  Oct-22  Nov-22  Dec-22   \n",
       "City of London        14.1    14.3    13.3  ...   116.3   121.5   121.7   \n",
       "Barking & Dagenham    23.7    23.7    23.4  ...   159.1   160.8   161.8   \n",
       "Barnet                19.8    20.0    20.2  ...   129.9   128.5   128.7   \n",
       "Bexley                24.3    24.6    24.6  ...   156.9   156.4   156.1   \n",
       "\n",
       "                       337     338     339     340     341     342  343  \n",
       "Unnamed: 0          Jan-23  Feb-23  Mar-23  Apr-23  May-23  Jun-23  NaN  \n",
       "City of London       124.5   109.7   116.2   115.9   124.8   127.8  NaN  \n",
       "Barking & Dagenham   160.0   156.5   156.2   159.4   160.8   157.7  NaN  \n",
       "Barnet               129.5   130.3   128.7   127.1   124.7   124.5  NaN  \n",
       "Bexley               153.2   153.1   152.8   153.7   152.2   151.3  NaN  \n",
       "\n",
       "[5 rows x 344 columns]"
      ]
     },
     "execution_count": 6,
     "metadata": {},
     "output_type": "execute_result"
    }
   ],
   "source": [
    "# Let's check the head of our new Transposed DataFrame. \n",
    "properties_T.head()"
   ]
  },
  {
   "cell_type": "code",
   "execution_count": 7,
   "metadata": {},
   "outputs": [
    {
     "data": {
      "text/plain": [
       "Index(['Unnamed: 0', 'City of London', 'Barking & Dagenham', 'Barnet',\n",
       "       'Bexley', 'Brent', 'Bromley', 'Camden', 'Croydon', 'Ealing', 'Enfield',\n",
       "       'Greenwich', 'Hackney', 'Hammersmith & Fulham', 'Haringey', 'Harrow',\n",
       "       'Havering', 'Hillingdon', 'Hounslow', 'Islington',\n",
       "       'Kensington & Chelsea', 'Kingston upon Thames', 'Lambeth', 'Lewisham',\n",
       "       'Merton', 'Newham', 'Redbridge', 'Richmond upon Thames', 'Southwark',\n",
       "       'Sutton', 'Tower Hamlets', 'Waltham Forest', 'Wandsworth',\n",
       "       'Westminster', 'Unnamed: 34', 'Inner London', 'Outer London',\n",
       "       'Unnamed: 37', 'NORTH EAST', 'NORTH WEST', 'YORKS & THE HUMBER',\n",
       "       'EAST MIDLANDS', 'WEST MIDLANDS', 'EAST OF ENGLAND', 'LONDON',\n",
       "       'SOUTH EAST', 'SOUTH WEST', 'Unnamed: 47', 'England'],\n",
       "      dtype='object')"
      ]
     },
     "execution_count": 7,
     "metadata": {},
     "output_type": "execute_result"
    }
   ],
   "source": [
    "# To confirm what our row indices are, let's call the .index variable on our properties_T DataFrame. \n",
    "properties_T.index"
   ]
  },
  {
   "cell_type": "code",
   "execution_count": 8,
   "metadata": {},
   "outputs": [],
   "source": [
    "# Our suspicion was correct. \n",
    "# Call the .reset_index() method on properties_T to reset the indices, and the reassign the result to properties_T: \n",
    "properties_T = properties_T.reset_index()"
   ]
  },
  {
   "cell_type": "code",
   "execution_count": 9,
   "metadata": {},
   "outputs": [
    {
     "data": {
      "text/plain": [
       "RangeIndex(start=0, stop=49, step=1)"
      ]
     },
     "execution_count": 9,
     "metadata": {},
     "output_type": "execute_result"
    }
   ],
   "source": [
    "# Now let's check out our DataFrames indices: \n",
    "properties_T.index"
   ]
  },
  {
   "cell_type": "code",
   "execution_count": 10,
   "metadata": {},
   "outputs": [
    {
     "data": {
      "text/html": [
       "<div>\n",
       "<style scoped>\n",
       "    .dataframe tbody tr th:only-of-type {\n",
       "        vertical-align: middle;\n",
       "    }\n",
       "\n",
       "    .dataframe tbody tr th {\n",
       "        vertical-align: top;\n",
       "    }\n",
       "\n",
       "    .dataframe thead th {\n",
       "        text-align: right;\n",
       "    }\n",
       "</style>\n",
       "<table border=\"1\" class=\"dataframe\">\n",
       "  <thead>\n",
       "    <tr style=\"text-align: right;\">\n",
       "      <th></th>\n",
       "      <th>index</th>\n",
       "      <th>0</th>\n",
       "      <th>1</th>\n",
       "      <th>2</th>\n",
       "      <th>3</th>\n",
       "      <th>4</th>\n",
       "      <th>5</th>\n",
       "      <th>6</th>\n",
       "      <th>7</th>\n",
       "      <th>8</th>\n",
       "      <th>...</th>\n",
       "      <th>334</th>\n",
       "      <th>335</th>\n",
       "      <th>336</th>\n",
       "      <th>337</th>\n",
       "      <th>338</th>\n",
       "      <th>339</th>\n",
       "      <th>340</th>\n",
       "      <th>341</th>\n",
       "      <th>342</th>\n",
       "      <th>343</th>\n",
       "    </tr>\n",
       "  </thead>\n",
       "  <tbody>\n",
       "    <tr>\n",
       "      <th>0</th>\n",
       "      <td>Unnamed: 0</td>\n",
       "      <td>NaN</td>\n",
       "      <td>Jan-95</td>\n",
       "      <td>Feb-95</td>\n",
       "      <td>Mar-95</td>\n",
       "      <td>Apr-95</td>\n",
       "      <td>May-95</td>\n",
       "      <td>Jun-95</td>\n",
       "      <td>Jul-95</td>\n",
       "      <td>Aug-95</td>\n",
       "      <td>...</td>\n",
       "      <td>Oct-22</td>\n",
       "      <td>Nov-22</td>\n",
       "      <td>Dec-22</td>\n",
       "      <td>Jan-23</td>\n",
       "      <td>Feb-23</td>\n",
       "      <td>Mar-23</td>\n",
       "      <td>Apr-23</td>\n",
       "      <td>May-23</td>\n",
       "      <td>Jun-23</td>\n",
       "      <td>NaN</td>\n",
       "    </tr>\n",
       "    <tr>\n",
       "      <th>1</th>\n",
       "      <td>City of London</td>\n",
       "      <td>E09000001</td>\n",
       "      <td>11.7</td>\n",
       "      <td>10.5</td>\n",
       "      <td>10.1</td>\n",
       "      <td>9.8</td>\n",
       "      <td>10.8</td>\n",
       "      <td>12.1</td>\n",
       "      <td>14.1</td>\n",
       "      <td>14.3</td>\n",
       "      <td>...</td>\n",
       "      <td>116.3</td>\n",
       "      <td>121.5</td>\n",
       "      <td>121.7</td>\n",
       "      <td>124.5</td>\n",
       "      <td>109.7</td>\n",
       "      <td>116.2</td>\n",
       "      <td>115.9</td>\n",
       "      <td>124.8</td>\n",
       "      <td>127.8</td>\n",
       "      <td>NaN</td>\n",
       "    </tr>\n",
       "    <tr>\n",
       "      <th>2</th>\n",
       "      <td>Barking &amp; Dagenham</td>\n",
       "      <td>E09000002</td>\n",
       "      <td>22.9</td>\n",
       "      <td>23.2</td>\n",
       "      <td>23.3</td>\n",
       "      <td>24.1</td>\n",
       "      <td>24.1</td>\n",
       "      <td>24.4</td>\n",
       "      <td>23.7</td>\n",
       "      <td>23.7</td>\n",
       "      <td>...</td>\n",
       "      <td>159.1</td>\n",
       "      <td>160.8</td>\n",
       "      <td>161.8</td>\n",
       "      <td>160.0</td>\n",
       "      <td>156.5</td>\n",
       "      <td>156.2</td>\n",
       "      <td>159.4</td>\n",
       "      <td>160.8</td>\n",
       "      <td>157.7</td>\n",
       "      <td>NaN</td>\n",
       "    </tr>\n",
       "    <tr>\n",
       "      <th>3</th>\n",
       "      <td>Barnet</td>\n",
       "      <td>E09000003</td>\n",
       "      <td>20.2</td>\n",
       "      <td>20.2</td>\n",
       "      <td>20.0</td>\n",
       "      <td>19.7</td>\n",
       "      <td>19.6</td>\n",
       "      <td>19.5</td>\n",
       "      <td>19.8</td>\n",
       "      <td>20.0</td>\n",
       "      <td>...</td>\n",
       "      <td>129.9</td>\n",
       "      <td>128.5</td>\n",
       "      <td>128.7</td>\n",
       "      <td>129.5</td>\n",
       "      <td>130.3</td>\n",
       "      <td>128.7</td>\n",
       "      <td>127.1</td>\n",
       "      <td>124.7</td>\n",
       "      <td>124.5</td>\n",
       "      <td>NaN</td>\n",
       "    </tr>\n",
       "    <tr>\n",
       "      <th>4</th>\n",
       "      <td>Bexley</td>\n",
       "      <td>E09000004</td>\n",
       "      <td>24.8</td>\n",
       "      <td>24.8</td>\n",
       "      <td>24.6</td>\n",
       "      <td>24.6</td>\n",
       "      <td>24.4</td>\n",
       "      <td>24.5</td>\n",
       "      <td>24.3</td>\n",
       "      <td>24.6</td>\n",
       "      <td>...</td>\n",
       "      <td>156.9</td>\n",
       "      <td>156.4</td>\n",
       "      <td>156.1</td>\n",
       "      <td>153.2</td>\n",
       "      <td>153.1</td>\n",
       "      <td>152.8</td>\n",
       "      <td>153.7</td>\n",
       "      <td>152.2</td>\n",
       "      <td>151.3</td>\n",
       "      <td>NaN</td>\n",
       "    </tr>\n",
       "  </tbody>\n",
       "</table>\n",
       "<p>5 rows × 345 columns</p>\n",
       "</div>"
      ],
      "text/plain": [
       "                index          0       1       2       3       4       5  \\\n",
       "0          Unnamed: 0        NaN  Jan-95  Feb-95  Mar-95  Apr-95  May-95   \n",
       "1      City of London  E09000001    11.7    10.5    10.1     9.8    10.8   \n",
       "2  Barking & Dagenham  E09000002    22.9    23.2    23.3    24.1    24.1   \n",
       "3              Barnet  E09000003    20.2    20.2    20.0    19.7    19.6   \n",
       "4              Bexley  E09000004    24.8    24.8    24.6    24.6    24.4   \n",
       "\n",
       "        6       7       8  ...     334     335     336     337     338  \\\n",
       "0  Jun-95  Jul-95  Aug-95  ...  Oct-22  Nov-22  Dec-22  Jan-23  Feb-23   \n",
       "1    12.1    14.1    14.3  ...   116.3   121.5   121.7   124.5   109.7   \n",
       "2    24.4    23.7    23.7  ...   159.1   160.8   161.8   160.0   156.5   \n",
       "3    19.5    19.8    20.0  ...   129.9   128.5   128.7   129.5   130.3   \n",
       "4    24.5    24.3    24.6  ...   156.9   156.4   156.1   153.2   153.1   \n",
       "\n",
       "      339     340     341     342  343  \n",
       "0  Mar-23  Apr-23  May-23  Jun-23  NaN  \n",
       "1   116.2   115.9   124.8   127.8  NaN  \n",
       "2   156.2   159.4   160.8   157.7  NaN  \n",
       "3   128.7   127.1   124.7   124.5  NaN  \n",
       "4   152.8   153.7   152.2   151.3  NaN  \n",
       "\n",
       "[5 rows x 345 columns]"
      ]
     },
     "execution_count": 10,
     "metadata": {},
     "output_type": "execute_result"
    }
   ],
   "source": [
    "# Call the head() function again to check out the new row indices: \n",
    "properties_T.head()"
   ]
  },
  {
   "cell_type": "code",
   "execution_count": 11,
   "metadata": {},
   "outputs": [
    {
     "data": {
      "text/plain": [
       "Index(['index',       0,       1,       2,       3,       4,       5,       6,\n",
       "             7,       8,\n",
       "       ...\n",
       "           334,     335,     336,     337,     338,     339,     340,     341,\n",
       "           342,     343],\n",
       "      dtype='object', length=345)"
      ]
     },
     "execution_count": 11,
     "metadata": {},
     "output_type": "execute_result"
    }
   ],
   "source": [
    "# To confirm that our DataFrame's columns are mainly just integers, call the .columns feature on our DataFrame:\n",
    "properties_T.columns"
   ]
  },
  {
   "cell_type": "code",
   "execution_count": 12,
   "metadata": {},
   "outputs": [
    {
     "data": {
      "text/html": [
       "<div>\n",
       "<style scoped>\n",
       "    .dataframe tbody tr th:only-of-type {\n",
       "        vertical-align: middle;\n",
       "    }\n",
       "\n",
       "    .dataframe tbody tr th {\n",
       "        vertical-align: top;\n",
       "    }\n",
       "\n",
       "    .dataframe thead th {\n",
       "        text-align: right;\n",
       "    }\n",
       "</style>\n",
       "<table border=\"1\" class=\"dataframe\">\n",
       "  <thead>\n",
       "    <tr style=\"text-align: right;\">\n",
       "      <th></th>\n",
       "      <th>index</th>\n",
       "      <th>0</th>\n",
       "      <th>1</th>\n",
       "      <th>2</th>\n",
       "      <th>3</th>\n",
       "      <th>4</th>\n",
       "      <th>5</th>\n",
       "      <th>6</th>\n",
       "      <th>7</th>\n",
       "      <th>8</th>\n",
       "      <th>...</th>\n",
       "      <th>334</th>\n",
       "      <th>335</th>\n",
       "      <th>336</th>\n",
       "      <th>337</th>\n",
       "      <th>338</th>\n",
       "      <th>339</th>\n",
       "      <th>340</th>\n",
       "      <th>341</th>\n",
       "      <th>342</th>\n",
       "      <th>343</th>\n",
       "    </tr>\n",
       "  </thead>\n",
       "  <tbody>\n",
       "    <tr>\n",
       "      <th>0</th>\n",
       "      <td>Unnamed: 0</td>\n",
       "      <td>NaN</td>\n",
       "      <td>Jan-95</td>\n",
       "      <td>Feb-95</td>\n",
       "      <td>Mar-95</td>\n",
       "      <td>Apr-95</td>\n",
       "      <td>May-95</td>\n",
       "      <td>Jun-95</td>\n",
       "      <td>Jul-95</td>\n",
       "      <td>Aug-95</td>\n",
       "      <td>...</td>\n",
       "      <td>Oct-22</td>\n",
       "      <td>Nov-22</td>\n",
       "      <td>Dec-22</td>\n",
       "      <td>Jan-23</td>\n",
       "      <td>Feb-23</td>\n",
       "      <td>Mar-23</td>\n",
       "      <td>Apr-23</td>\n",
       "      <td>May-23</td>\n",
       "      <td>Jun-23</td>\n",
       "      <td>NaN</td>\n",
       "    </tr>\n",
       "  </tbody>\n",
       "</table>\n",
       "<p>1 rows × 345 columns</p>\n",
       "</div>"
      ],
      "text/plain": [
       "        index    0       1       2       3       4       5       6       7  \\\n",
       "0  Unnamed: 0  NaN  Jan-95  Feb-95  Mar-95  Apr-95  May-95  Jun-95  Jul-95   \n",
       "\n",
       "        8  ...     334     335     336     337     338     339     340  \\\n",
       "0  Aug-95  ...  Oct-22  Nov-22  Dec-22  Jan-23  Feb-23  Mar-23  Apr-23   \n",
       "\n",
       "      341     342  343  \n",
       "0  May-23  Jun-23  NaN  \n",
       "\n",
       "[1 rows x 345 columns]"
      ]
     },
     "execution_count": 12,
     "metadata": {},
     "output_type": "execute_result"
    }
   ],
   "source": [
    "# Call the iloc[] method with double square brackets on the properties_T DataFrame, to see the row at index 0. \n",
    "properties_T.iloc[[0]]"
   ]
  },
  {
   "cell_type": "code",
   "execution_count": 13,
   "metadata": {},
   "outputs": [],
   "source": [
    "# Try this now. \n",
    "properties_T.columns = properties_T.iloc[0]"
   ]
  },
  {
   "cell_type": "code",
   "execution_count": 14,
   "metadata": {},
   "outputs": [
    {
     "data": {
      "text/html": [
       "<div>\n",
       "<style scoped>\n",
       "    .dataframe tbody tr th:only-of-type {\n",
       "        vertical-align: middle;\n",
       "    }\n",
       "\n",
       "    .dataframe tbody tr th {\n",
       "        vertical-align: top;\n",
       "    }\n",
       "\n",
       "    .dataframe thead th {\n",
       "        text-align: right;\n",
       "    }\n",
       "</style>\n",
       "<table border=\"1\" class=\"dataframe\">\n",
       "  <thead>\n",
       "    <tr style=\"text-align: right;\">\n",
       "      <th></th>\n",
       "      <th>Unnamed: 0</th>\n",
       "      <th>NaN</th>\n",
       "      <th>Jan-95</th>\n",
       "      <th>Feb-95</th>\n",
       "      <th>Mar-95</th>\n",
       "      <th>Apr-95</th>\n",
       "      <th>May-95</th>\n",
       "      <th>Jun-95</th>\n",
       "      <th>Jul-95</th>\n",
       "      <th>Aug-95</th>\n",
       "      <th>...</th>\n",
       "      <th>Oct-22</th>\n",
       "      <th>Nov-22</th>\n",
       "      <th>Dec-22</th>\n",
       "      <th>Jan-23</th>\n",
       "      <th>Feb-23</th>\n",
       "      <th>Mar-23</th>\n",
       "      <th>Apr-23</th>\n",
       "      <th>May-23</th>\n",
       "      <th>Jun-23</th>\n",
       "      <th>NaN</th>\n",
       "    </tr>\n",
       "  </thead>\n",
       "  <tbody>\n",
       "    <tr>\n",
       "      <th>0</th>\n",
       "      <td>Unnamed: 0</td>\n",
       "      <td>NaN</td>\n",
       "      <td>Jan-95</td>\n",
       "      <td>Feb-95</td>\n",
       "      <td>Mar-95</td>\n",
       "      <td>Apr-95</td>\n",
       "      <td>May-95</td>\n",
       "      <td>Jun-95</td>\n",
       "      <td>Jul-95</td>\n",
       "      <td>Aug-95</td>\n",
       "      <td>...</td>\n",
       "      <td>Oct-22</td>\n",
       "      <td>Nov-22</td>\n",
       "      <td>Dec-22</td>\n",
       "      <td>Jan-23</td>\n",
       "      <td>Feb-23</td>\n",
       "      <td>Mar-23</td>\n",
       "      <td>Apr-23</td>\n",
       "      <td>May-23</td>\n",
       "      <td>Jun-23</td>\n",
       "      <td>NaN</td>\n",
       "    </tr>\n",
       "    <tr>\n",
       "      <th>1</th>\n",
       "      <td>City of London</td>\n",
       "      <td>E09000001</td>\n",
       "      <td>11.7</td>\n",
       "      <td>10.5</td>\n",
       "      <td>10.1</td>\n",
       "      <td>9.8</td>\n",
       "      <td>10.8</td>\n",
       "      <td>12.1</td>\n",
       "      <td>14.1</td>\n",
       "      <td>14.3</td>\n",
       "      <td>...</td>\n",
       "      <td>116.3</td>\n",
       "      <td>121.5</td>\n",
       "      <td>121.7</td>\n",
       "      <td>124.5</td>\n",
       "      <td>109.7</td>\n",
       "      <td>116.2</td>\n",
       "      <td>115.9</td>\n",
       "      <td>124.8</td>\n",
       "      <td>127.8</td>\n",
       "      <td>NaN</td>\n",
       "    </tr>\n",
       "    <tr>\n",
       "      <th>2</th>\n",
       "      <td>Barking &amp; Dagenham</td>\n",
       "      <td>E09000002</td>\n",
       "      <td>22.9</td>\n",
       "      <td>23.2</td>\n",
       "      <td>23.3</td>\n",
       "      <td>24.1</td>\n",
       "      <td>24.1</td>\n",
       "      <td>24.4</td>\n",
       "      <td>23.7</td>\n",
       "      <td>23.7</td>\n",
       "      <td>...</td>\n",
       "      <td>159.1</td>\n",
       "      <td>160.8</td>\n",
       "      <td>161.8</td>\n",
       "      <td>160.0</td>\n",
       "      <td>156.5</td>\n",
       "      <td>156.2</td>\n",
       "      <td>159.4</td>\n",
       "      <td>160.8</td>\n",
       "      <td>157.7</td>\n",
       "      <td>NaN</td>\n",
       "    </tr>\n",
       "    <tr>\n",
       "      <th>3</th>\n",
       "      <td>Barnet</td>\n",
       "      <td>E09000003</td>\n",
       "      <td>20.2</td>\n",
       "      <td>20.2</td>\n",
       "      <td>20.0</td>\n",
       "      <td>19.7</td>\n",
       "      <td>19.6</td>\n",
       "      <td>19.5</td>\n",
       "      <td>19.8</td>\n",
       "      <td>20.0</td>\n",
       "      <td>...</td>\n",
       "      <td>129.9</td>\n",
       "      <td>128.5</td>\n",
       "      <td>128.7</td>\n",
       "      <td>129.5</td>\n",
       "      <td>130.3</td>\n",
       "      <td>128.7</td>\n",
       "      <td>127.1</td>\n",
       "      <td>124.7</td>\n",
       "      <td>124.5</td>\n",
       "      <td>NaN</td>\n",
       "    </tr>\n",
       "    <tr>\n",
       "      <th>4</th>\n",
       "      <td>Bexley</td>\n",
       "      <td>E09000004</td>\n",
       "      <td>24.8</td>\n",
       "      <td>24.8</td>\n",
       "      <td>24.6</td>\n",
       "      <td>24.6</td>\n",
       "      <td>24.4</td>\n",
       "      <td>24.5</td>\n",
       "      <td>24.3</td>\n",
       "      <td>24.6</td>\n",
       "      <td>...</td>\n",
       "      <td>156.9</td>\n",
       "      <td>156.4</td>\n",
       "      <td>156.1</td>\n",
       "      <td>153.2</td>\n",
       "      <td>153.1</td>\n",
       "      <td>152.8</td>\n",
       "      <td>153.7</td>\n",
       "      <td>152.2</td>\n",
       "      <td>151.3</td>\n",
       "      <td>NaN</td>\n",
       "    </tr>\n",
       "  </tbody>\n",
       "</table>\n",
       "<p>5 rows × 345 columns</p>\n",
       "</div>"
      ],
      "text/plain": [
       "0          Unnamed: 0        NaN  Jan-95  Feb-95  Mar-95  Apr-95  May-95  \\\n",
       "0          Unnamed: 0        NaN  Jan-95  Feb-95  Mar-95  Apr-95  May-95   \n",
       "1      City of London  E09000001    11.7    10.5    10.1     9.8    10.8   \n",
       "2  Barking & Dagenham  E09000002    22.9    23.2    23.3    24.1    24.1   \n",
       "3              Barnet  E09000003    20.2    20.2    20.0    19.7    19.6   \n",
       "4              Bexley  E09000004    24.8    24.8    24.6    24.6    24.4   \n",
       "\n",
       "0  Jun-95  Jul-95  Aug-95  ...  Oct-22  Nov-22  Dec-22  Jan-23  Feb-23  \\\n",
       "0  Jun-95  Jul-95  Aug-95  ...  Oct-22  Nov-22  Dec-22  Jan-23  Feb-23   \n",
       "1    12.1    14.1    14.3  ...   116.3   121.5   121.7   124.5   109.7   \n",
       "2    24.4    23.7    23.7  ...   159.1   160.8   161.8   160.0   156.5   \n",
       "3    19.5    19.8    20.0  ...   129.9   128.5   128.7   129.5   130.3   \n",
       "4    24.5    24.3    24.6  ...   156.9   156.4   156.1   153.2   153.1   \n",
       "\n",
       "0  Mar-23  Apr-23  May-23  Jun-23  NaN  \n",
       "0  Mar-23  Apr-23  May-23  Jun-23  NaN  \n",
       "1   116.2   115.9   124.8   127.8  NaN  \n",
       "2   156.2   159.4   160.8   157.7  NaN  \n",
       "3   128.7   127.1   124.7   124.5  NaN  \n",
       "4   152.8   153.7   152.2   151.3  NaN  \n",
       "\n",
       "[5 rows x 345 columns]"
      ]
     },
     "execution_count": 14,
     "metadata": {},
     "output_type": "execute_result"
    }
   ],
   "source": [
    "# Check out our DataFrame again: \n",
    "properties_T.head()"
   ]
  },
  {
   "cell_type": "code",
   "execution_count": 15,
   "metadata": {},
   "outputs": [],
   "source": [
    "# Have a go at this now. \n",
    "properties_T = properties_T.drop(0)"
   ]
  },
  {
   "cell_type": "code",
   "execution_count": 16,
   "metadata": {},
   "outputs": [
    {
     "data": {
      "text/html": [
       "<div>\n",
       "<style scoped>\n",
       "    .dataframe tbody tr th:only-of-type {\n",
       "        vertical-align: middle;\n",
       "    }\n",
       "\n",
       "    .dataframe tbody tr th {\n",
       "        vertical-align: top;\n",
       "    }\n",
       "\n",
       "    .dataframe thead th {\n",
       "        text-align: right;\n",
       "    }\n",
       "</style>\n",
       "<table border=\"1\" class=\"dataframe\">\n",
       "  <thead>\n",
       "    <tr style=\"text-align: right;\">\n",
       "      <th></th>\n",
       "      <th>Unnamed: 0</th>\n",
       "      <th>NaN</th>\n",
       "      <th>Jan-95</th>\n",
       "      <th>Feb-95</th>\n",
       "      <th>Mar-95</th>\n",
       "      <th>Apr-95</th>\n",
       "      <th>May-95</th>\n",
       "      <th>Jun-95</th>\n",
       "      <th>Jul-95</th>\n",
       "      <th>Aug-95</th>\n",
       "      <th>...</th>\n",
       "      <th>Oct-22</th>\n",
       "      <th>Nov-22</th>\n",
       "      <th>Dec-22</th>\n",
       "      <th>Jan-23</th>\n",
       "      <th>Feb-23</th>\n",
       "      <th>Mar-23</th>\n",
       "      <th>Apr-23</th>\n",
       "      <th>May-23</th>\n",
       "      <th>Jun-23</th>\n",
       "      <th>NaN</th>\n",
       "    </tr>\n",
       "  </thead>\n",
       "  <tbody>\n",
       "    <tr>\n",
       "      <th>1</th>\n",
       "      <td>City of London</td>\n",
       "      <td>E09000001</td>\n",
       "      <td>11.7</td>\n",
       "      <td>10.5</td>\n",
       "      <td>10.1</td>\n",
       "      <td>9.8</td>\n",
       "      <td>10.8</td>\n",
       "      <td>12.1</td>\n",
       "      <td>14.1</td>\n",
       "      <td>14.3</td>\n",
       "      <td>...</td>\n",
       "      <td>116.3</td>\n",
       "      <td>121.5</td>\n",
       "      <td>121.7</td>\n",
       "      <td>124.5</td>\n",
       "      <td>109.7</td>\n",
       "      <td>116.2</td>\n",
       "      <td>115.9</td>\n",
       "      <td>124.8</td>\n",
       "      <td>127.8</td>\n",
       "      <td>NaN</td>\n",
       "    </tr>\n",
       "    <tr>\n",
       "      <th>2</th>\n",
       "      <td>Barking &amp; Dagenham</td>\n",
       "      <td>E09000002</td>\n",
       "      <td>22.9</td>\n",
       "      <td>23.2</td>\n",
       "      <td>23.3</td>\n",
       "      <td>24.1</td>\n",
       "      <td>24.1</td>\n",
       "      <td>24.4</td>\n",
       "      <td>23.7</td>\n",
       "      <td>23.7</td>\n",
       "      <td>...</td>\n",
       "      <td>159.1</td>\n",
       "      <td>160.8</td>\n",
       "      <td>161.8</td>\n",
       "      <td>160.0</td>\n",
       "      <td>156.5</td>\n",
       "      <td>156.2</td>\n",
       "      <td>159.4</td>\n",
       "      <td>160.8</td>\n",
       "      <td>157.7</td>\n",
       "      <td>NaN</td>\n",
       "    </tr>\n",
       "    <tr>\n",
       "      <th>3</th>\n",
       "      <td>Barnet</td>\n",
       "      <td>E09000003</td>\n",
       "      <td>20.2</td>\n",
       "      <td>20.2</td>\n",
       "      <td>20.0</td>\n",
       "      <td>19.7</td>\n",
       "      <td>19.6</td>\n",
       "      <td>19.5</td>\n",
       "      <td>19.8</td>\n",
       "      <td>20.0</td>\n",
       "      <td>...</td>\n",
       "      <td>129.9</td>\n",
       "      <td>128.5</td>\n",
       "      <td>128.7</td>\n",
       "      <td>129.5</td>\n",
       "      <td>130.3</td>\n",
       "      <td>128.7</td>\n",
       "      <td>127.1</td>\n",
       "      <td>124.7</td>\n",
       "      <td>124.5</td>\n",
       "      <td>NaN</td>\n",
       "    </tr>\n",
       "    <tr>\n",
       "      <th>4</th>\n",
       "      <td>Bexley</td>\n",
       "      <td>E09000004</td>\n",
       "      <td>24.8</td>\n",
       "      <td>24.8</td>\n",
       "      <td>24.6</td>\n",
       "      <td>24.6</td>\n",
       "      <td>24.4</td>\n",
       "      <td>24.5</td>\n",
       "      <td>24.3</td>\n",
       "      <td>24.6</td>\n",
       "      <td>...</td>\n",
       "      <td>156.9</td>\n",
       "      <td>156.4</td>\n",
       "      <td>156.1</td>\n",
       "      <td>153.2</td>\n",
       "      <td>153.1</td>\n",
       "      <td>152.8</td>\n",
       "      <td>153.7</td>\n",
       "      <td>152.2</td>\n",
       "      <td>151.3</td>\n",
       "      <td>NaN</td>\n",
       "    </tr>\n",
       "    <tr>\n",
       "      <th>5</th>\n",
       "      <td>Brent</td>\n",
       "      <td>E09000005</td>\n",
       "      <td>16.9</td>\n",
       "      <td>17.0</td>\n",
       "      <td>17.0</td>\n",
       "      <td>17.3</td>\n",
       "      <td>17.4</td>\n",
       "      <td>17.6</td>\n",
       "      <td>17.5</td>\n",
       "      <td>17.4</td>\n",
       "      <td>...</td>\n",
       "      <td>134.7</td>\n",
       "      <td>133.4</td>\n",
       "      <td>130.8</td>\n",
       "      <td>130.0</td>\n",
       "      <td>126.6</td>\n",
       "      <td>125.1</td>\n",
       "      <td>125.9</td>\n",
       "      <td>125.7</td>\n",
       "      <td>128.0</td>\n",
       "      <td>NaN</td>\n",
       "    </tr>\n",
       "  </tbody>\n",
       "</table>\n",
       "<p>5 rows × 345 columns</p>\n",
       "</div>"
      ],
      "text/plain": [
       "0          Unnamed: 0        NaN Jan-95 Feb-95 Mar-95 Apr-95 May-95 Jun-95  \\\n",
       "1      City of London  E09000001   11.7   10.5   10.1    9.8   10.8   12.1   \n",
       "2  Barking & Dagenham  E09000002   22.9   23.2   23.3   24.1   24.1   24.4   \n",
       "3              Barnet  E09000003   20.2   20.2   20.0   19.7   19.6   19.5   \n",
       "4              Bexley  E09000004   24.8   24.8   24.6   24.6   24.4   24.5   \n",
       "5               Brent  E09000005   16.9   17.0   17.0   17.3   17.4   17.6   \n",
       "\n",
       "0 Jul-95 Aug-95  ... Oct-22 Nov-22 Dec-22 Jan-23 Feb-23 Mar-23 Apr-23 May-23  \\\n",
       "1   14.1   14.3  ...  116.3  121.5  121.7  124.5  109.7  116.2  115.9  124.8   \n",
       "2   23.7   23.7  ...  159.1  160.8  161.8  160.0  156.5  156.2  159.4  160.8   \n",
       "3   19.8   20.0  ...  129.9  128.5  128.7  129.5  130.3  128.7  127.1  124.7   \n",
       "4   24.3   24.6  ...  156.9  156.4  156.1  153.2  153.1  152.8  153.7  152.2   \n",
       "5   17.5   17.4  ...  134.7  133.4  130.8  130.0  126.6  125.1  125.9  125.7   \n",
       "\n",
       "0 Jun-23  NaN  \n",
       "1  127.8  NaN  \n",
       "2  157.7  NaN  \n",
       "3  124.5  NaN  \n",
       "4  151.3  NaN  \n",
       "5  128.0  NaN  \n",
       "\n",
       "[5 rows x 345 columns]"
      ]
     },
     "execution_count": 16,
     "metadata": {},
     "output_type": "execute_result"
    }
   ],
   "source": [
    "# Now check out our DataFrame again to see how it looks. \n",
    "properties_T.head()"
   ]
  },
  {
   "cell_type": "markdown",
   "metadata": {
    "colab_type": "text",
    "id": "o1uLbJAsoIjK"
   },
   "source": [
    "**2.3. Cleaning the data (part 2)**\n",
    "\n",
    "You might we have to **rename** a couple columns. How do you do this? The clue's pretty bold..."
   ]
  },
  {
   "cell_type": "code",
   "execution_count": 17,
   "metadata": {
    "colab": {},
    "colab_type": "code",
    "id": "GKkmn1AnoVZS"
   },
   "outputs": [],
   "source": [
    "# Try this here. \n",
    "properties_T = properties_T.rename(columns = {'Unnamed: 0':'London_Borough', pd.NaT:'ID'})"
   ]
  },
  {
   "cell_type": "code",
   "execution_count": 18,
   "metadata": {},
   "outputs": [
    {
     "data": {
      "text/html": [
       "<div>\n",
       "<style scoped>\n",
       "    .dataframe tbody tr th:only-of-type {\n",
       "        vertical-align: middle;\n",
       "    }\n",
       "\n",
       "    .dataframe tbody tr th {\n",
       "        vertical-align: top;\n",
       "    }\n",
       "\n",
       "    .dataframe thead th {\n",
       "        text-align: right;\n",
       "    }\n",
       "</style>\n",
       "<table border=\"1\" class=\"dataframe\">\n",
       "  <thead>\n",
       "    <tr style=\"text-align: right;\">\n",
       "      <th></th>\n",
       "      <th>London_Borough</th>\n",
       "      <th>NaN</th>\n",
       "      <th>Jan-95</th>\n",
       "      <th>Feb-95</th>\n",
       "      <th>Mar-95</th>\n",
       "      <th>Apr-95</th>\n",
       "      <th>May-95</th>\n",
       "      <th>Jun-95</th>\n",
       "      <th>Jul-95</th>\n",
       "      <th>Aug-95</th>\n",
       "      <th>...</th>\n",
       "      <th>Oct-22</th>\n",
       "      <th>Nov-22</th>\n",
       "      <th>Dec-22</th>\n",
       "      <th>Jan-23</th>\n",
       "      <th>Feb-23</th>\n",
       "      <th>Mar-23</th>\n",
       "      <th>Apr-23</th>\n",
       "      <th>May-23</th>\n",
       "      <th>Jun-23</th>\n",
       "      <th>NaN</th>\n",
       "    </tr>\n",
       "  </thead>\n",
       "  <tbody>\n",
       "    <tr>\n",
       "      <th>1</th>\n",
       "      <td>City of London</td>\n",
       "      <td>E09000001</td>\n",
       "      <td>11.7</td>\n",
       "      <td>10.5</td>\n",
       "      <td>10.1</td>\n",
       "      <td>9.8</td>\n",
       "      <td>10.8</td>\n",
       "      <td>12.1</td>\n",
       "      <td>14.1</td>\n",
       "      <td>14.3</td>\n",
       "      <td>...</td>\n",
       "      <td>116.3</td>\n",
       "      <td>121.5</td>\n",
       "      <td>121.7</td>\n",
       "      <td>124.5</td>\n",
       "      <td>109.7</td>\n",
       "      <td>116.2</td>\n",
       "      <td>115.9</td>\n",
       "      <td>124.8</td>\n",
       "      <td>127.8</td>\n",
       "      <td>NaN</td>\n",
       "    </tr>\n",
       "    <tr>\n",
       "      <th>2</th>\n",
       "      <td>Barking &amp; Dagenham</td>\n",
       "      <td>E09000002</td>\n",
       "      <td>22.9</td>\n",
       "      <td>23.2</td>\n",
       "      <td>23.3</td>\n",
       "      <td>24.1</td>\n",
       "      <td>24.1</td>\n",
       "      <td>24.4</td>\n",
       "      <td>23.7</td>\n",
       "      <td>23.7</td>\n",
       "      <td>...</td>\n",
       "      <td>159.1</td>\n",
       "      <td>160.8</td>\n",
       "      <td>161.8</td>\n",
       "      <td>160.0</td>\n",
       "      <td>156.5</td>\n",
       "      <td>156.2</td>\n",
       "      <td>159.4</td>\n",
       "      <td>160.8</td>\n",
       "      <td>157.7</td>\n",
       "      <td>NaN</td>\n",
       "    </tr>\n",
       "    <tr>\n",
       "      <th>3</th>\n",
       "      <td>Barnet</td>\n",
       "      <td>E09000003</td>\n",
       "      <td>20.2</td>\n",
       "      <td>20.2</td>\n",
       "      <td>20.0</td>\n",
       "      <td>19.7</td>\n",
       "      <td>19.6</td>\n",
       "      <td>19.5</td>\n",
       "      <td>19.8</td>\n",
       "      <td>20.0</td>\n",
       "      <td>...</td>\n",
       "      <td>129.9</td>\n",
       "      <td>128.5</td>\n",
       "      <td>128.7</td>\n",
       "      <td>129.5</td>\n",
       "      <td>130.3</td>\n",
       "      <td>128.7</td>\n",
       "      <td>127.1</td>\n",
       "      <td>124.7</td>\n",
       "      <td>124.5</td>\n",
       "      <td>NaN</td>\n",
       "    </tr>\n",
       "    <tr>\n",
       "      <th>4</th>\n",
       "      <td>Bexley</td>\n",
       "      <td>E09000004</td>\n",
       "      <td>24.8</td>\n",
       "      <td>24.8</td>\n",
       "      <td>24.6</td>\n",
       "      <td>24.6</td>\n",
       "      <td>24.4</td>\n",
       "      <td>24.5</td>\n",
       "      <td>24.3</td>\n",
       "      <td>24.6</td>\n",
       "      <td>...</td>\n",
       "      <td>156.9</td>\n",
       "      <td>156.4</td>\n",
       "      <td>156.1</td>\n",
       "      <td>153.2</td>\n",
       "      <td>153.1</td>\n",
       "      <td>152.8</td>\n",
       "      <td>153.7</td>\n",
       "      <td>152.2</td>\n",
       "      <td>151.3</td>\n",
       "      <td>NaN</td>\n",
       "    </tr>\n",
       "    <tr>\n",
       "      <th>5</th>\n",
       "      <td>Brent</td>\n",
       "      <td>E09000005</td>\n",
       "      <td>16.9</td>\n",
       "      <td>17.0</td>\n",
       "      <td>17.0</td>\n",
       "      <td>17.3</td>\n",
       "      <td>17.4</td>\n",
       "      <td>17.6</td>\n",
       "      <td>17.5</td>\n",
       "      <td>17.4</td>\n",
       "      <td>...</td>\n",
       "      <td>134.7</td>\n",
       "      <td>133.4</td>\n",
       "      <td>130.8</td>\n",
       "      <td>130.0</td>\n",
       "      <td>126.6</td>\n",
       "      <td>125.1</td>\n",
       "      <td>125.9</td>\n",
       "      <td>125.7</td>\n",
       "      <td>128.0</td>\n",
       "      <td>NaN</td>\n",
       "    </tr>\n",
       "  </tbody>\n",
       "</table>\n",
       "<p>5 rows × 345 columns</p>\n",
       "</div>"
      ],
      "text/plain": [
       "0      London_Borough        NaN Jan-95 Feb-95 Mar-95 Apr-95 May-95 Jun-95  \\\n",
       "1      City of London  E09000001   11.7   10.5   10.1    9.8   10.8   12.1   \n",
       "2  Barking & Dagenham  E09000002   22.9   23.2   23.3   24.1   24.1   24.4   \n",
       "3              Barnet  E09000003   20.2   20.2   20.0   19.7   19.6   19.5   \n",
       "4              Bexley  E09000004   24.8   24.8   24.6   24.6   24.4   24.5   \n",
       "5               Brent  E09000005   16.9   17.0   17.0   17.3   17.4   17.6   \n",
       "\n",
       "0 Jul-95 Aug-95  ... Oct-22 Nov-22 Dec-22 Jan-23 Feb-23 Mar-23 Apr-23 May-23  \\\n",
       "1   14.1   14.3  ...  116.3  121.5  121.7  124.5  109.7  116.2  115.9  124.8   \n",
       "2   23.7   23.7  ...  159.1  160.8  161.8  160.0  156.5  156.2  159.4  160.8   \n",
       "3   19.8   20.0  ...  129.9  128.5  128.7  129.5  130.3  128.7  127.1  124.7   \n",
       "4   24.3   24.6  ...  156.9  156.4  156.1  153.2  153.1  152.8  153.7  152.2   \n",
       "5   17.5   17.4  ...  134.7  133.4  130.8  130.0  126.6  125.1  125.9  125.7   \n",
       "\n",
       "0 Jun-23  NaN  \n",
       "1  127.8  NaN  \n",
       "2  157.7  NaN  \n",
       "3  124.5  NaN  \n",
       "4  151.3  NaN  \n",
       "5  128.0  NaN  \n",
       "\n",
       "[5 rows x 345 columns]"
      ]
     },
     "execution_count": 18,
     "metadata": {},
     "output_type": "execute_result"
    }
   ],
   "source": [
    "# Let's check out the DataFrame again to admire our good work. \n",
    "properties_T.head()"
   ]
  },
  {
   "cell_type": "code",
   "execution_count": 19,
   "metadata": {},
   "outputs": [
    {
     "data": {
      "text/plain": [
       "Index(['London_Borough',              nan,         'Jan-95',         'Feb-95',\n",
       "               'Mar-95',         'Apr-95',         'May-95',         'Jun-95',\n",
       "               'Jul-95',         'Aug-95',\n",
       "       ...\n",
       "               'Oct-22',         'Nov-22',         'Dec-22',         'Jan-23',\n",
       "               'Feb-23',         'Mar-23',         'Apr-23',         'May-23',\n",
       "               'Jun-23',              nan],\n",
       "      dtype='object', name=0, length=345)"
      ]
     },
     "execution_count": 19,
     "metadata": {},
     "output_type": "execute_result"
    }
   ],
   "source": [
    "# Try this here. \n",
    "properties_T.columns"
   ]
  },
  {
   "cell_type": "markdown",
   "metadata": {
    "colab_type": "text",
    "id": "jy8BzXHmoWEw"
   },
   "source": [
    "**2.4.Transforming the data**\n",
    "\n",
    "Remember what Wes McKinney said about tidy data? \n",
    "\n",
    "You might need to **melt** your DataFrame here. "
   ]
  },
  {
   "cell_type": "code",
   "execution_count": 20,
   "metadata": {
    "colab": {},
    "colab_type": "code",
    "id": "S2wM0qLuo2Zt"
   },
   "outputs": [
    {
     "ename": "KeyError",
     "evalue": "\"The following 'id_vars' are not present in the DataFrame: ['ID']\"",
     "output_type": "error",
     "traceback": [
      "\u001b[1;31m---------------------------------------------------------------------------\u001b[0m",
      "\u001b[1;31mKeyError\u001b[0m                                  Traceback (most recent call last)",
      "Cell \u001b[1;32mIn[20], line 2\u001b[0m\n\u001b[0;32m      1\u001b[0m \u001b[38;5;66;03m# Try this here: \u001b[39;00m\n\u001b[1;32m----> 2\u001b[0m clean_properties \u001b[38;5;241m=\u001b[39m pd\u001b[38;5;241m.\u001b[39mmelt(properties_T, id_vars\u001b[38;5;241m=\u001b[39m [\u001b[38;5;124m'\u001b[39m\u001b[38;5;124mLondon_Borough\u001b[39m\u001b[38;5;124m'\u001b[39m, \u001b[38;5;124m'\u001b[39m\u001b[38;5;124mID\u001b[39m\u001b[38;5;124m'\u001b[39m])\n",
      "File \u001b[1;32m~\\anaconda33\\Lib\\site-packages\\pandas\\core\\reshape\\melt.py:77\u001b[0m, in \u001b[0;36mmelt\u001b[1;34m(frame, id_vars, value_vars, var_name, value_name, col_level, ignore_index)\u001b[0m\n\u001b[0;32m     75\u001b[0m         missing \u001b[38;5;241m=\u001b[39m Index(com\u001b[38;5;241m.\u001b[39mflatten(id_vars))\u001b[38;5;241m.\u001b[39mdifference(cols)\n\u001b[0;32m     76\u001b[0m         \u001b[38;5;28;01mif\u001b[39;00m \u001b[38;5;129;01mnot\u001b[39;00m missing\u001b[38;5;241m.\u001b[39mempty:\n\u001b[1;32m---> 77\u001b[0m             \u001b[38;5;28;01mraise\u001b[39;00m \u001b[38;5;167;01mKeyError\u001b[39;00m(\n\u001b[0;32m     78\u001b[0m                 \u001b[38;5;124m\"\u001b[39m\u001b[38;5;124mThe following \u001b[39m\u001b[38;5;124m'\u001b[39m\u001b[38;5;124mid_vars\u001b[39m\u001b[38;5;124m'\u001b[39m\u001b[38;5;124m are not present \u001b[39m\u001b[38;5;124m\"\u001b[39m\n\u001b[0;32m     79\u001b[0m                 \u001b[38;5;124mf\u001b[39m\u001b[38;5;124m\"\u001b[39m\u001b[38;5;124min the DataFrame: \u001b[39m\u001b[38;5;132;01m{\u001b[39;00m\u001b[38;5;28mlist\u001b[39m(missing)\u001b[38;5;132;01m}\u001b[39;00m\u001b[38;5;124m\"\u001b[39m\n\u001b[0;32m     80\u001b[0m             )\n\u001b[0;32m     81\u001b[0m \u001b[38;5;28;01melse\u001b[39;00m:\n\u001b[0;32m     82\u001b[0m     id_vars \u001b[38;5;241m=\u001b[39m []\n",
      "\u001b[1;31mKeyError\u001b[0m: \"The following 'id_vars' are not present in the DataFrame: ['ID']\""
     ]
    }
   ],
   "source": [
    "# Try this here: \n",
    "clean_properties = pd.melt(properties_T, id_vars= ['London_Borough', 'ID'])"
   ]
  },
  {
   "cell_type": "code",
   "execution_count": 21,
   "metadata": {},
   "outputs": [
    {
     "ename": "NameError",
     "evalue": "name 'clean_properties' is not defined",
     "output_type": "error",
     "traceback": [
      "\u001b[1;31m---------------------------------------------------------------------------\u001b[0m",
      "\u001b[1;31mNameError\u001b[0m                                 Traceback (most recent call last)",
      "Cell \u001b[1;32mIn[21], line 1\u001b[0m\n\u001b[1;32m----> 1\u001b[0m clean_properties\u001b[38;5;241m.\u001b[39mhead()\n",
      "\u001b[1;31mNameError\u001b[0m: name 'clean_properties' is not defined"
     ]
    }
   ],
   "source": [
    "clean_properties.head()"
   ]
  },
  {
   "cell_type": "code",
   "execution_count": 22,
   "metadata": {},
   "outputs": [],
   "source": [
    "# Re-name the column names\n",
    "clean_properties = clean_properties.rename(columns = {0: 'Month', 'value': 'Average_price'})"
   ]
  },
  {
   "cell_type": "code",
   "execution_count": 23,
   "metadata": {},
   "outputs": [],
   "source": [
    "# Check out the DataFrame: \n",
    "clean_properties.head()"
   ]
  },
  {
   "cell_type": "code",
   "execution_count": 24,
   "metadata": {},
   "outputs": [],
   "source": [
    "# Let's use the .dtypes attribute to check the data types of our clean_properties DataFrame:\n",
    "clean_properties.dtypes"
   ]
  },
  {
   "cell_type": "markdown",
   "metadata": {
    "colab_type": "text",
    "id": "7kIsgAo7o3mf"
   },
   "source": [
    "Remember to make sure your column data types are all correct. Average prices, for example, should be floating point numbers... "
   ]
  },
  {
   "cell_type": "code",
   "execution_count": 25,
   "metadata": {
    "colab": {},
    "colab_type": "code",
    "id": "ZcR4IHbcpOaq"
   },
   "outputs": [],
   "source": [
    "# Try this here\n",
    "clean_properties['Average_price'] = pd.to_numeric(clean_properties['Average_price'])"
   ]
  },
  {
   "cell_type": "code",
   "execution_count": 26,
   "metadata": {},
   "outputs": [],
   "source": [
    "# Check out the new data types:\n",
    "clean_properties.dtypes"
   ]
  },
  {
   "cell_type": "code",
   "execution_count": 27,
   "metadata": {},
   "outputs": [],
   "source": [
    "# To see if there are any missing values, we should call the count() method on our DataFrame:\n",
    "clean_properties.count()"
   ]
  },
  {
   "cell_type": "markdown",
   "metadata": {
    "colab_type": "text",
    "id": "knLUXHLypOtw"
   },
   "source": [
    "**2.5. Cleaning the data (part 3)**\n",
    "\n",
    "Do we have an equal number of observations in the ID, Average Price, Month, and London Borough columns? Remember that there are only 32 London Boroughs. How many entries do you have in that column? \n",
    "\n",
    "Check out the contents of the London Borough column, and if you find null values, get rid of them however you see fit. "
   ]
  },
  {
   "cell_type": "code",
   "execution_count": 28,
   "metadata": {
    "colab": {},
    "colab_type": "code",
    "id": "BnvTW5a3p0fC"
   },
   "outputs": [],
   "source": [
    "# Do this here. \n",
    "clean_properties['London_Borough'].unique()"
   ]
  },
  {
   "cell_type": "code",
   "execution_count": 29,
   "metadata": {},
   "outputs": [],
   "source": [
    "# Subset clean_properties on the condition: df['London_Borough'] == 'Unnamed: 34' to see what information these rows contain. \n",
    "clean_properties[clean_properties['London_Borough'] == 'Unnamed: 34'].head()"
   ]
  },
  {
   "cell_type": "code",
   "execution_count": 30,
   "metadata": {},
   "outputs": [],
   "source": [
    "# Let's do the same for 'Unnamed: 37':\n",
    "clean_properties[clean_properties['London_Borough'] == 'Unnamed: 37'].head()"
   ]
  },
  {
   "cell_type": "code",
   "execution_count": 31,
   "metadata": {},
   "outputs": [],
   "source": [
    "# Let's look at how many rows have NAs as their value for ID. \n",
    "# To this end, subset clean_properties on the condition: clean_properties['ID'].isna().\n",
    "# Notice that this line doesn't actually reassign a new value to clean_properties. \n",
    "clean_properties[clean_properties['ID'].isna()]"
   ]
  },
  {
   "cell_type": "code",
   "execution_count": 32,
   "metadata": {},
   "outputs": [],
   "source": [
    "# Try your hand at method (1) here: \n",
    "NaNFreeDF1 = clean_properties[clean_properties['Average_price'].notna()]\n",
    "NaNFreeDF1.head(48)"
   ]
  },
  {
   "cell_type": "code",
   "execution_count": 33,
   "metadata": {},
   "outputs": [],
   "source": [
    "# If we do a count on our new DataFrame, we'll see how many rows we have that have complete information: \n",
    "NaNFreeDF1.count()"
   ]
  },
  {
   "cell_type": "code",
   "execution_count": 34,
   "metadata": {},
   "outputs": [],
   "source": [
    "# filtering the data with NaN values\n",
    "NaNFreeDF2 = clean_properties.dropna()\n",
    "NaNFreeDF2.head(48)"
   ]
  },
  {
   "cell_type": "code",
   "execution_count": null,
   "metadata": {},
   "outputs": [],
   "source": [
    "# Let's do a count on this DataFrame object: \n",
    "NaNFreeDF2.count()"
   ]
  },
  {
   "cell_type": "code",
   "execution_count": null,
   "metadata": {},
   "outputs": [],
   "source": [
    "NaNFreeDF2['London_Borough'].unique()"
   ]
  },
  {
   "cell_type": "code",
   "execution_count": null,
   "metadata": {},
   "outputs": [],
   "source": [
    "# Using the .shape attribute, compare the dimenions of clean_properties, NaNFreeDF1, and NaNFreeDF2: \n",
    "print(clean_properties.shape)\n",
    "print(NaNFreeDF1.shape)\n",
    "print(NaNFreeDF2.shape)"
   ]
  },
  {
   "cell_type": "code",
   "execution_count": null,
   "metadata": {},
   "outputs": [],
   "source": [
    "# A list of non-boroughs. \n",
    "nonBoroughs = ['Inner London', 'Outer London', \n",
    "               'NORTH EAST', 'NORTH WEST', 'YORKS & THE HUMBER', \n",
    "               'EAST MIDLANDS', 'WEST MIDLANDS',\n",
    "              'EAST OF ENGLAND', 'LONDON', 'SOUTH EAST', \n",
    "              'SOUTH WEST', 'England']"
   ]
  },
  {
   "cell_type": "code",
   "execution_count": null,
   "metadata": {},
   "outputs": [],
   "source": [
    "# Do this here. \n",
    "NaNFreeDF2[NaNFreeDF2.London_Borough.isin(nonBoroughs)]"
   ]
  },
  {
   "cell_type": "code",
   "execution_count": null,
   "metadata": {},
   "outputs": [],
   "source": [
    "NaNFreeDF2[~NaNFreeDF2.London_Borough.isin(nonBoroughs)]"
   ]
  },
  {
   "cell_type": "code",
   "execution_count": null,
   "metadata": {},
   "outputs": [],
   "source": [
    "NaNFreeDF2 = NaNFreeDF2[~NaNFreeDF2.London_Borough.isin(nonBoroughs)]"
   ]
  },
  {
   "cell_type": "code",
   "execution_count": null,
   "metadata": {},
   "outputs": [],
   "source": [
    "NaNFreeDF2.head()"
   ]
  },
  {
   "cell_type": "code",
   "execution_count": null,
   "metadata": {},
   "outputs": [],
   "source": [
    "# Do that here. \n",
    "df = NaNFreeDF2"
   ]
  },
  {
   "cell_type": "code",
   "execution_count": null,
   "metadata": {},
   "outputs": [],
   "source": [
    "df.head()"
   ]
  },
  {
   "cell_type": "code",
   "execution_count": null,
   "metadata": {},
   "outputs": [],
   "source": [
    "df.dtypes"
   ]
  },
  {
   "cell_type": "markdown",
   "metadata": {
    "colab_type": "text",
    "id": "PGEx6mJsp6dG"
   },
   "source": [
    "**2.6. Visualizing the data**\n",
    "\n",
    "To visualize the data, why not subset on a particular London Borough? Maybe do a line plot of Month against Average Price?"
   ]
  },
  {
   "cell_type": "code",
   "execution_count": null,
   "metadata": {
    "colab": {},
    "colab_type": "code",
    "id": "nAg5pT9cqHAR"
   },
   "outputs": [],
   "source": [
    "# First of all, make a variable called camden_prices, and assign it the result of filtering df on the following condition:\n",
    "# df['London_Borough'] == 'Camden'\n",
    "camden_prices = df[df['London_Borough'] == 'Camden']\n",
    "\n",
    "# Make a variable called ax. Assign it the result of calling the plot() method, and plugging in the following values as parameters:\n",
    "# kind ='line', x = 'Month', y='Average_price'\n",
    "ax = camden_prices.plot(kind ='line', x = 'Month', y='Average_price')\n",
    "\n",
    "# Finally, call the set_ylabel() method on ax, and set that label to the string: 'Price'. \n",
    "ax.set_ylabel('Price')"
   ]
  },
  {
   "cell_type": "markdown",
   "metadata": {
    "colab_type": "text",
    "id": "aWTPqSJeqHnC"
   },
   "source": [
    "To limit the number of data points you have, you might want to extract the year from every month value your *Month* column. \n",
    "\n",
    "To this end, you *could* apply a ***lambda function***. Your logic could work as follows:\n",
    "1. look through the `Month` column\n",
    "2. extract the year from each individual value in that column \n",
    "3. store that corresponding year as separate column. \n",
    "\n",
    "Whether you go ahead with this is up to you. Just so long as you answer our initial brief: which boroughs of London have seen the greatest house price increase, on average, over the past two decades? "
   ]
  },
  {
   "cell_type": "code",
   "execution_count": null,
   "metadata": {
    "colab": {},
    "colab_type": "code",
    "id": "e0DF92cyqnu8"
   },
   "outputs": [],
   "source": [
    "# Try this yourself. \n",
    "df['Year'] = df['Month'].apply(lambda t: t.year)\n",
    "df.tail()"
   ]
  },
  {
   "cell_type": "code",
   "execution_count": null,
   "metadata": {},
   "outputs": [],
   "source": [
    "# Using the function 'groupby' will help you to calculate the mean for each year and for each Borough. \n",
    "## As you can see, the variables Borough and Year are now indices\n",
    "dfg = df.groupby(by=['London_Borough', 'Year']).mean()\n",
    "dfg.sample(10)"
   ]
  },
  {
   "cell_type": "code",
   "execution_count": null,
   "metadata": {},
   "outputs": [],
   "source": [
    "# Let's reset the index for our new DataFrame dfg, and call the head() method on it. \n",
    "dfg = dfg.reset_index()\n",
    "dfg.head()"
   ]
  },
  {
   "cell_type": "markdown",
   "metadata": {
    "colab_type": "text",
    "id": "2knuTxAEqoJ4"
   },
   "source": [
    "**3. Modeling**\n",
    "\n",
    "Consider creating a function that will calculate a ratio of house prices, comparing the price of a house in 2018 to the price in 1998.\n",
    "\n",
    "Consider calling this function create_price_ratio.\n",
    "\n",
    "You'd want this function to:\n",
    "1. Take a filter of dfg, specifically where this filter constrains the London_Borough, as an argument. For example, one admissible argument should be: dfg[dfg['London_Borough']=='Camden'].\n",
    "2. Get the Average Price for that Borough, for the years 1998 and 2018.\n",
    "4. Calculate the ratio of the Average Price for 1998 divided by the Average Price for 2018.\n",
    "5. Return that ratio.\n",
    "\n",
    "Once you've written this function, you ultimately want to use it to iterate through all the unique London_Boroughs and work out the ratio capturing the difference of house prices between 1998 and 2018.\n",
    "\n",
    "Bear in mind: you don't have to write a function like this if you don't want to. If you can solve the brief otherwise, then great! \n",
    "\n",
    "***Hint***: This section should test the skills you acquired in:\n",
    "- Python Data Science Toolbox - Part One, all modules"
   ]
  },
  {
   "cell_type": "code",
   "execution_count": null,
   "metadata": {
    "colab": {},
    "colab_type": "code",
    "id": "cKTyr437UgDa"
   },
   "outputs": [],
   "source": [
    "# Here's where you should write your function:\n",
    "def create_price_ratio(d):\n",
    "    y1998 = float(d['Average_price'][d['Year']==1998])\n",
    "    y2018 = float(d['Average_price'][d['Year']==2018])\n",
    "    ratio = [y2018/y1998]\n",
    "    return ratio"
   ]
  },
  {
   "cell_type": "code",
   "execution_count": null,
   "metadata": {},
   "outputs": [],
   "source": [
    "#  Test out the function by calling it with the following argument:\n",
    "# dfg[dfg['London_Borough']=='Barking & Dagenham']\n",
    "create_price_ratio(dfg[dfg['London_Borough']=='Barking & Dagenham'])"
   ]
  },
  {
   "cell_type": "code",
   "execution_count": null,
   "metadata": {},
   "outputs": [],
   "source": [
    "# We want to do this for all of the London Boroughs. \n",
    "# First, let's make an empty dictionary, called final, where we'll store our ratios for each unique London_Borough.\n",
    "final = {}"
   ]
  },
  {
   "cell_type": "code",
   "execution_count": null,
   "metadata": {},
   "outputs": [],
   "source": [
    "# Now let's declare a for loop that will iterate through each of the unique elements of the 'London_Borough' column of our DataFrame dfg.\n",
    "# Call the iterator variable 'b'. \n",
    "for b in dfg['London_Borough'].unique():\n",
    "    # Let's make our parameter to our create_price_ratio function: i.e., we subset dfg on 'London_Borough' == b. \n",
    "    borough = dfg[dfg['London_Borough'] == b]\n",
    "    # Make a new entry in the final dictionary whose value's the result of calling create_price_ratio with the argument: borough\n",
    "    final[b] = create_price_ratio(borough)\n",
    "# We use the function and incorporate that into a new key of the dictionary \n",
    "print(final) "
   ]
  },
  {
   "cell_type": "code",
   "execution_count": null,
   "metadata": {},
   "outputs": [],
   "source": [
    "# Make a variable called df_ratios, and assign it the result of calling the DataFrame method on the dictionary final. \n",
    "df_ratios = pd.DataFrame(final)"
   ]
  },
  {
   "cell_type": "code",
   "execution_count": null,
   "metadata": {},
   "outputs": [],
   "source": [
    "# Call the head() method on this variable to check it out. \n",
    "df_ratios.head()"
   ]
  },
  {
   "cell_type": "code",
   "execution_count": null,
   "metadata": {},
   "outputs": [],
   "source": [
    "# All we need to do now is transpose it, and reset the index! \n",
    "df_ratios_T = df_ratios.T\n",
    "df_ratios = df_ratios_T.reset_index()\n",
    "df_ratios.head()"
   ]
  },
  {
   "cell_type": "code",
   "execution_count": null,
   "metadata": {},
   "outputs": [],
   "source": [
    "# Let's just rename the 'index' column as 'London_Borough', and the '0' column to '2018'.\n",
    "df_ratios.rename(columns={'index':'Borough', 0:'2018'}, inplace=True)\n",
    "df_ratios.head()"
   ]
  },
  {
   "cell_type": "code",
   "execution_count": null,
   "metadata": {},
   "outputs": [],
   "source": [
    "# Let's sort in descending order and select the top 15 boroughs. \n",
    "# Make a variable called top15, and assign it the result of calling sort_values() on df_ratios. \n",
    "top15 = df_ratios.sort_values(by='2018',ascending=False).head(15)\n",
    "print(top15)"
   ]
  },
  {
   "cell_type": "code",
   "execution_count": null,
   "metadata": {},
   "outputs": [],
   "source": [
    "#Let's plot the boroughs that have seen the greatest changes in price\n",
    "ax = top15[['Borough','2018']].plot(kind='bar')\n",
    "ax.set_xticklabels(top15.Borough)"
   ]
  },
  {
   "cell_type": "markdown",
   "metadata": {
    "colab_type": "text",
    "id": "NzYUI7FxJpgv"
   },
   "source": [
    "### 4. Conclusion\n",
    "What can you conclude? Type out your conclusion below. \n",
    "\n",
    "Look back at your notebook. Think about how you might summarize what you have done, and prepare a quick presentation on it to your mentor at your next meeting. \n",
    "\n",
    "We hope you enjoyed this practical project. It should have consolidated your data hygiene and pandas skills by looking at a real-world problem involving just the kind of dataset you might encounter as a budding data scientist. Congratulations, and looking forward to seeing you at the next step in the course! "
   ]
  },
  {
   "cell_type": "markdown",
   "metadata": {},
   "source": [
    "At first there is a question. Which boroughs of London have seen the greatest increase in housing prices, on average, over the last two decades? A borough is just a fancy word for district.\n",
    "\n",
    "Answer is below:\n",
    "\n",
    "Borough      2018/1998(Ratio)\n",
    "\n",
    "1.Hackney  6.198286\n",
    "\n",
    "2.Waltham Forest  5.834756\n",
    "\n",
    "3.Southwark  5.516485\n",
    "\n",
    "4.Lewisham  5.449221\n",
    "\n",
    "5.Westminster  5.353565\n",
    "\n",
    "6.Newham  5.305390\n",
    "\n",
    "7.Haringey  5.134625\n",
    "\n",
    "8.Kensington & Chelsea  5.082465\n",
    "\n",
    "9.Lambeth  4.957751\n",
    "\n",
    "10.Camden  4.935353\n",
    "\n",
    "11.Barking & Dagenham  4.896619\n",
    "\n",
    "12.Brent  4.894554\n",
    "\n",
    "13.Islington  4.844048\n",
    "\n",
    "14.Greenwich  4.763036\n",
    "\n",
    "15.Wandsworth  4.757709"
   ]
  },
  {
   "cell_type": "code",
   "execution_count": null,
   "metadata": {},
   "outputs": [],
   "source": []
  }
 ],
 "metadata": {
  "colab": {
   "collapsed_sections": [],
   "name": "Springboard Data Science Career Track Unit 4 Challenge - Tier 3 Complete .ipynb",
   "provenance": []
  },
  "kernelspec": {
   "display_name": "Python 3 (ipykernel)",
   "language": "python",
   "name": "python3"
  },
  "language_info": {
   "codemirror_mode": {
    "name": "ipython",
    "version": 3
   },
   "file_extension": ".py",
   "mimetype": "text/x-python",
   "name": "python",
   "nbconvert_exporter": "python",
   "pygments_lexer": "ipython3",
   "version": "3.11.3"
  }
 },
 "nbformat": 4,
 "nbformat_minor": 1
}
